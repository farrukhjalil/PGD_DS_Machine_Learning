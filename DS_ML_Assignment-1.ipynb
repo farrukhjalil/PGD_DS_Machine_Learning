{
 "cells": [
  {
   "cell_type": "markdown",
   "id": "359093ab",
   "metadata": {},
   "source": [
    "# Assignment - 1\n",
    "### PGD in Data Science with AI\n",
    "#### Batch - 2\n",
    "#### Course: Machine Learing\n"
   ]
  },
  {
   "cell_type": "code",
   "execution_count": 30,
   "id": "e7d9c69d",
   "metadata": {},
   "outputs": [],
   "source": [
    "import cv2\n",
    "vid_color = cv2.COLOR_BGR2RGB"
   ]
  },
  {
   "cell_type": "code",
   "execution_count": 32,
   "id": "b1584871",
   "metadata": {},
   "outputs": [
    {
     "name": "stdout",
     "output_type": "stream",
     "text": [
      "Video successlfully saved!\n"
     ]
    }
   ],
   "source": [
    "# define a video capture object\n",
    "vid = cv2.VideoCapture(0)\n",
    "if vid.isOpened == False:\n",
    "    print('Error reading video')\n",
    "frame_width = int(vid.get(3))\n",
    "frame_height = int(vid.get(4))\n",
    "size = (frame_width, frame_height)\n",
    "vid_file = cv2.VideoWriter('camera_video_AI_DS_Assignment_1.avi', \n",
    "                         cv2.VideoWriter_fourcc(*'MJPG'),\n",
    "                         10, size)\n",
    "while(True):\n",
    "      \n",
    "    # Capture the video frame\n",
    "    # by frame\n",
    "    ret, frame = vid.read()\n",
    "    if ret == True:\n",
    "        # Video in grey color\n",
    "        color = cv2.cvtColor(frame, vid_color)\n",
    "        \n",
    "        # Display the resulting frame\n",
    "        cv2.imshow('frame', color)\n",
    "        \n",
    "        # writing in file\n",
    "        vid_file.write(frame)\n",
    "        \n",
    "        \n",
    "        # the 'q' button is set as the\n",
    "        # quitting button you may use any\n",
    "        # desired button of your choice\n",
    "        if cv2.waitKey(1) & 0xFF == ord('q'):\n",
    "            break\n",
    "    else:\n",
    "        break\n",
    "    \n",
    "# After the loop release the cap object\n",
    "vid.release()\n",
    "vid_file.release()\n",
    "# Destroy all the windows\n",
    "cv2.destroyAllWindows()\n",
    "print('Video successlfully saved!')"
   ]
  },
  {
   "cell_type": "code",
   "execution_count": null,
   "id": "10decaa8",
   "metadata": {},
   "outputs": [],
   "source": []
  }
 ],
 "metadata": {
  "kernelspec": {
   "display_name": "Python 3 (ipykernel)",
   "language": "python",
   "name": "python3"
  },
  "language_info": {
   "codemirror_mode": {
    "name": "ipython",
    "version": 3
   },
   "file_extension": ".py",
   "mimetype": "text/x-python",
   "name": "python",
   "nbconvert_exporter": "python",
   "pygments_lexer": "ipython3",
   "version": "3.9.7"
  }
 },
 "nbformat": 4,
 "nbformat_minor": 5
}
